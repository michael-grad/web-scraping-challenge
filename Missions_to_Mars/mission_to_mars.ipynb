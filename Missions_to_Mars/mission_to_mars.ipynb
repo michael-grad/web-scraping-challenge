{
 "cells": [
  {
   "cell_type": "code",
   "execution_count": 10,
   "metadata": {},
   "outputs": [],
   "source": [
    "# This file is for all scraping and analysis tasks\n",
    "# NASA Mars News"
   ]
  },
  {
   "cell_type": "code",
   "execution_count": null,
   "metadata": {},
   "outputs": [],
   "source": [
    "# Install splinter\n",
    "# VERIFIED AS WORKING\n",
    "!pip install splinter"
   ]
  },
  {
   "cell_type": "code",
   "execution_count": 11,
   "metadata": {},
   "outputs": [],
   "source": [
    "# dependencies\n",
    "# VERIFIED AS WORKING\n",
    "from bs4 import BeautifulSoup as bs\n",
    "import requests\n",
    "from splinter import Browser\n",
    "import pandas as pd"
   ]
  },
  {
   "cell_type": "code",
   "execution_count": 22,
   "metadata": {},
   "outputs": [
    {
     "name": "stdout",
     "output_type": "stream",
     "text": [
      "NASA Engineers Checking InSight's Weather Sensors\n"
     ]
    },
    {
     "data": {
      "text/plain": [
       "'An electronics issue is suspected to be preventing the sensors from sharing their data about Mars weather with the spacecraft.'"
      ]
     },
     "execution_count": 22,
     "metadata": {},
     "output_type": "execute_result"
    }
   ],
   "source": [
    "# MARS NEWS\n",
    "# Read url\n",
    "url = 'https://mars.nasa.gov/news/'\n",
    "\n",
    "# Retreive page\n",
    "#response = requests.get(url)\n",
    "response = browser.visit(url)\n",
    "html= browser.html\n",
    "\n",
    "# Create beautiful soup object and parse\n",
    "soup = bs(html, 'html.parser')\n",
    "\n",
    "# Examine results\n",
    "#print(soup.prettify())\n",
    "\n",
    "# Assign title\n",
    "# comment out .a.text\n",
    "title = soup.find_all('div', class_=\"content_title\")\n",
    "nasa_news_title = title[1].a.text\n",
    "\n",
    "# Using web inspector...below is the path to the headline title and headline description\n",
    "# body\n",
    "# - div id=\"site_body\"\n",
    "# - div id=\"page\"\n",
    "# - div class=\"grid_list_page module content_page\"\n",
    "# - div class=\"grid_layout\"\n",
    "# - <article>\n",
    "# - div data-react-class=\"GridListPage\"\n",
    "# - section class=\"grid_gallery module list_view\"\n",
    "# - div class=\"grid_layout\"\n",
    "# - ul class=\"item_list\"\n",
    "# - li class=\"item_slide\"\n",
    "# - div class=\"image_and_description_container\"\n",
    "# - div class=\"list_text\"\n",
    "# - div class=\"content_title\": THIS IS THE HEADLINE TITLE\n",
    "# - div class=\"article_teaser_body\":  THIS IS THE HEADLINE DESCRIPTION\n",
    "\n",
    "\n",
    "# DEBUG!! - removed .text at end because \"it had not attribute .text\"\n",
    "# DEBUG!! - IndexError: list index out of range\n",
    "# DEBUG!! -- Why is type = bs.element.ResultSet instead of list\n",
    "# Assign Rollover Description\n",
    "# Modeled after Activity 12.2.2\n",
    "print(nasa_news_title)\n",
    "nasa_news_description = soup.find('div', class_=\"article_teaser_body\").text\n",
    "print(nasa_news_description)"
   ]
  },
  {
   "cell_type": "code",
   "execution_count": null,
   "metadata": {},
   "outputs": [],
   "source": [
    "# JPL Mars Space Images - Featured Image"
   ]
  },
  {
   "cell_type": "code",
   "execution_count": 27,
   "metadata": {},
   "outputs": [
    {
     "name": "stdout",
     "output_type": "stream",
     "text": [
      "/spaceimages/images/mediumsize/PIA19977_ip.jpg\n",
      "https://www.jpl.nasa.gov/spaceimages/?search=&category=Mars/spaceimages/images/mediumsize/PIA19977_ip.jpg\n"
     ]
    }
   ],
   "source": [
    "# Use splinter to retrieve featured full size jpg image and store in variable featured_image_url\n",
    "\n",
    "# This below does something\n",
    "executable_path = {'executable_path': 'chromedriver.exe'}\n",
    "browser = Browser('chrome', **executable_path, headless=False)\n",
    "\n",
    "# Define URL and go to it\n",
    "# URL for JPL Featured Space Image\n",
    "jpl_url = 'https://www.jpl.nasa.gov/spaceimages/?search=&category=Mars'\n",
    "browser.visit(jpl_url)\n",
    "\n",
    "# Extract full size jpg image from page\n",
    "html = browser.html\n",
    "soup = bs(html, 'html.parser')\n",
    "\n",
    "#print(soup)\n",
    "title = soup.find_all('div', class_=\"content_title\")\n",
    "btn_url = soup.find('a', class_=\"button fancybox\")['data-fancybox-href']\n",
    "print(btn_url)\n",
    "featured_img_url = jpl_url + btn_url\n",
    "print(featured_img_url)\n",
    "# DEBUG!!\n",
    "#jpl_image2 = soup.find('id', )\n",
    "#jpl_image = soup.find('img', src_=\"/assets/images/content/tmp/images/jpl_photojournal(3x1).jpg\")\n",
    "#featured_jpl_image_url = soup.find('div', class_=\"image_container\").find('a', href='http://photojournal.jpl.nasa.gov/')\n",
    "# NOTE: PATH TO FEATURED IMAGE IS BELOW\n",
    "# body\n",
    "# - div id=\"main_container\"\n",
    "# - div id=\"page\"\n",
    "# - section class=\"image_teaser module\"\n",
    "# - div class=\"grid_layout\"\n",
    "# - ul class=\"module_gallery gallery_list\"\n",
    "# - li class=\"slide\"\n",
    "# - div class=\"image_container\"\n",
    "# - a href=\"http://photojournal.jpl.nasa.gov/\"\n",
    "# - img src=\"/assets/images/content/tmp/images/jpl_photojournal(3x1).jpg\"\n",
    "\n",
    "# QUESTION: how to extract jpg when it lists an img src on the server\n",
    "#featured_jpl_image_url"
   ]
  },
  {
   "cell_type": "code",
   "execution_count": 28,
   "metadata": {},
   "outputs": [],
   "source": [
    "browser = Browser('chrome', **executable_path, headless=False)\n",
    "\n",
    "# Define URL and go to it\n",
    "# URL for JPL Featured Space Image\n",
    "jpl_url = 'https://www.jpl.nasa.gov/spaceimages/?search=&category=Mars'\n",
    "browser.visit(jpl_url)\n",
    "\n",
    "featured_image= browser.find_by_id(\"full_image\")\n",
    "featured_image.click()"
   ]
  },
  {
   "cell_type": "code",
   "execution_count": 29,
   "metadata": {},
   "outputs": [],
   "source": [
    "# can always go to stack overflow"
   ]
  },
  {
   "cell_type": "code",
   "execution_count": 30,
   "metadata": {},
   "outputs": [],
   "source": [
    "# Mars Facts Page"
   ]
  },
  {
   "cell_type": "code",
   "execution_count": 33,
   "metadata": {},
   "outputs": [
    {
     "name": "stdout",
     "output_type": "stream",
     "text": [
      "<class 'list'>\n"
     ]
    }
   ],
   "source": [
    "# Mars Facts\n",
    "# VERIFIED AS WORKING\n",
    "# NEED TO DO TO HTML\n",
    "# modeled after Activity 12.2.9\n",
    "mars_facts_url = 'https://space-facts.com/mars/'\n",
    "mars_facts_tables = pd.read_html(mars_facts_url)\n",
    "print(type(mars_facts_tables))\n",
    "mars_facts_table = mars_facts_tables[0]\n",
    "\n",
    "# Renaming column headers sourced from https://cmdlinetips.com/2018/03/how-to-change-column-names-and-row-indexes-in-pandas/\n",
    "mars_facts_table.columns=[\"Attribute\", \"Value\"]\n",
    "type(mars_facts_table)\n",
    "\n",
    "# Set index to Attribute Column sourced from https://pandas.pydata.org/pandas-docs/stable/reference/api/pandas.DataFrame.set_index.html\n",
    "mars_facts_table = mars_facts_table.set_index(\"Attribute\")\n",
    "print(mars_facts_table)\n",
    "\n",
    "# to html\n",
    "mars_facts_html = mars_facts_table.to_html()"
   ]
  },
  {
   "cell_type": "code",
   "execution_count": null,
   "metadata": {},
   "outputs": [],
   "source": [
    "# Mars Hemispheres"
   ]
  },
  {
   "cell_type": "code",
   "execution_count": 34,
   "metadata": {},
   "outputs": [],
   "source": [
    "# Mars Hemispheres\n",
    "usgs_astrogeology_url = 'https://astrogeology.usgs.gov/search/results?q=hemisphere+enhanced&k1=target&v1=Mars'\n",
    "\n",
    "# PATH TO IMAGE IS BELOW\n",
    "# body\n",
    "# - div class=\"wrapper\"\n",
    "# - div class=\"container\"\n",
    "# - div class=\"full-content\"\n",
    "# - section id=\"results-accordian\"\n",
    "# - div id=\"product-section\"\n",
    "# - div class =\"collapsible results\"\n",
    "# - div class =\"item\" --- this is the point in the path that wraps the container for the individual hemisphere\n",
    "# - PATH POINT FOR IMAGE URLs\n",
    "# - a class=\"itemLink product-item\" --- this is the path point for images\n",
    "# - a href = /search/map/Mars/Viking/cerberus_enhanced\n",
    "# - a href = /search/map/Mars/Viking/schiaparelli_enhanced\n",
    "# - a href = /search/map/Mars/Viking/syrtis_major_enhanced\n",
    "# - a href = /search/map/Mars/Viking/valles_marineris_enhanced\n",
    "\n",
    "# For labels of images\n",
    "# - under div class=\"item\"\n",
    "# - div class=\"description\"\n",
    "# - a tag\n",
    "# - h3 tab"
   ]
  },
  {
   "cell_type": "code",
   "execution_count": 42,
   "metadata": {},
   "outputs": [
    {
     "name": "stdout",
     "output_type": "stream",
     "text": [
      "Cerberus Hemisphere Enhanced\n",
      "[<a class=\"itemLink product-item\" href=\"/search/map/Mars/Viking/cerberus_enhanced\"><img alt=\"Cerberus Hemisphere Enhanced thumbnail\" class=\"thumb\" src=\"/cache/images/39d3266553462198bd2fbc4d18fbed17_cerberus_enhanced.tif_thumb.png\"/></a>, <a class=\"itemLink product-item\" href=\"/search/map/Mars/Viking/cerberus_enhanced\"><h3>Cerberus Hemisphere Enhanced</h3></a>, <a class=\"itemLink product-item\" href=\"/search/map/Mars/Viking/schiaparelli_enhanced\"><img alt=\"Schiaparelli Hemisphere Enhanced thumbnail\" class=\"thumb\" src=\"/cache/images/08eac6e22c07fb1fe72223a79252de20_schiaparelli_enhanced.tif_thumb.png\"/></a>, <a class=\"itemLink product-item\" href=\"/search/map/Mars/Viking/schiaparelli_enhanced\"><h3>Schiaparelli Hemisphere Enhanced</h3></a>, <a class=\"itemLink product-item\" href=\"/search/map/Mars/Viking/syrtis_major_enhanced\"><img alt=\"Syrtis Major Hemisphere Enhanced thumbnail\" class=\"thumb\" src=\"/cache/images/55a0a1e2796313fdeafb17c35925e8ac_syrtis_major_enhanced.tif_thumb.png\"/></a>, <a class=\"itemLink product-item\" href=\"/search/map/Mars/Viking/syrtis_major_enhanced\"><h3>Syrtis Major Hemisphere Enhanced</h3></a>, <a class=\"itemLink product-item\" href=\"/search/map/Mars/Viking/valles_marineris_enhanced\"><img alt=\"Valles Marineris Hemisphere Enhanced thumbnail\" class=\"thumb\" src=\"/cache/images/4e59980c1c57f89c680c0e1ccabbeff1_valles_marineris_enhanced.tif_thumb.png\"/></a>, <a class=\"itemLink product-item\" href=\"/search/map/Mars/Viking/valles_marineris_enhanced\"><h3>Valles Marineris Hemisphere Enhanced</h3></a>]\n",
      "/search/map/Mars/Viking/cerberus_enhanced\n",
      "/search/map/Mars/Viking/cerberus_enhanced\n",
      "/search/map/Mars/Viking/schiaparelli_enhanced\n",
      "/search/map/Mars/Viking/schiaparelli_enhanced\n",
      "/search/map/Mars/Viking/syrtis_major_enhanced\n",
      "/search/map/Mars/Viking/syrtis_major_enhanced\n",
      "/search/map/Mars/Viking/valles_marineris_enhanced\n",
      "/search/map/Mars/Viking/valles_marineris_enhanced\n",
      "['https://astrogeology.usgs.gov/search/results?q=hemisphere+enhanced&k1=target&v1=Mars/search/map/Mars/Viking/cerberus_enhanced', 'https://astrogeology.usgs.gov/search/results?q=hemisphere+enhanced&k1=target&v1=Mars/search/map/Mars/Viking/schiaparelli_enhanced', 'https://astrogeology.usgs.gov/search/results?q=hemisphere+enhanced&k1=target&v1=Mars/search/map/Mars/Viking/syrtis_major_enhanced', 'https://astrogeology.usgs.gov/search/results?q=hemisphere+enhanced&k1=target&v1=Mars/search/map/Mars/Viking/valles_marineris_enhanced']\n"
     ]
    },
    {
     "data": {
      "text/plain": [
       "[{'title': 'Cerberus Hemisphere Enhanced',\n",
       "  'img_url': 'https://astrogeology.usgs.gov/search/results?q=hemisphere+enhanced&k1=target&v1=Mars/search/map/Mars/Viking/cerberus_enhanced'},\n",
       " {'title': 'Schiaparelli Hemisphere Enhanced',\n",
       "  'img_url': 'https://astrogeology.usgs.gov/search/results?q=hemisphere+enhanced&k1=target&v1=Mars/search/map/Mars/Viking/schiaparelli_enhanced'},\n",
       " {'title': 'Syrtis Major Hemisphere Enhanced',\n",
       "  'img_url': 'https://astrogeology.usgs.gov/search/results?q=hemisphere+enhanced&k1=target&v1=Mars/search/map/Mars/Viking/syrtis_major_enhanced'},\n",
       " {'title': 'Valles Marineris Hemisphere Enhanced',\n",
       "  'img_url': 'https://astrogeology.usgs.gov/search/results?q=hemisphere+enhanced&k1=target&v1=Mars/search/map/Mars/Viking/valles_marineris_enhanced'}]"
      ]
     },
     "execution_count": 42,
     "metadata": {},
     "output_type": "execute_result"
    }
   ],
   "source": [
    "# Mars Hemispheres\n",
    "# Extract full size jpg image from page\n",
    "\n",
    "# DEBUG!! - chrome not reachable\n",
    "html_hemi = browser.html\n",
    "soup_hemi = bs(html_hemi, 'html.parser')\n",
    "\n",
    "# Retrieve image descriptions\n",
    "#description_list = soup_hemi.find_all('div', class_=\"article_teaser_body\")\n",
    "\n",
    "# Define URL and go to it\n",
    "browser.visit(usgs_astrogeology_url)\n",
    "\n",
    "# define lists\n",
    "hemi_title_list = []\n",
    "hemi_image_list = []\n",
    "hemi_image_final_list = []\n",
    "\n",
    "# DEBUG!! -- .find_all('h3') does not produce correct list\n",
    "# DEBUG!! -- AttributeError: ResultSet object has no attribute 'text'\n",
    "# DEBUG!! -- Error:  .find_all('div'...).a.h3 = invalid syntax\n",
    "\n",
    "# Assign title\n",
    "#hemi_title_list = soup_hemi.find_all('div' class=\"description\").a.h3\n",
    "hemi_title_list = soup_hemi.find_all('h3')\n",
    "print(hemi_title_list[0].text)\n",
    "\n",
    "# DEBUG!! - Error:  'href' is not defined\n",
    "hemi_image_list = soup_hemi.find_all('a', class_=\"itemLink product-item\", href=True)\n",
    "print(hemi_image_list)\n",
    "\n",
    "# Loop through hemi_image_list to get just href\n",
    "i = 1\n",
    "\n",
    "for image in hemi_image_list:\n",
    "    print(image['href'])\n",
    "    full_url = usgs_astrogeology_url + image['href']\n",
    "    if full_url not in hemi_image_final_list:\n",
    "        hemi_image_final_list.append(full_url)\n",
    "print(hemi_image_final_list)\n",
    "\n",
    "# Create list of dictionaries\n",
    "hemi_dict = {}\n",
    "hemi_list =[]\n",
    "for i in range(0,4):\n",
    "    hemi_dict = {\"title\":  hemi_title_list[i].text,\n",
    "                 \"img_url\":  hemi_image_final_list[i]\n",
    "    }\n",
    "    hemi_list.append(hemi_dict)\n",
    "    hemi_dict = {}\n",
    "print(hemi_list)"
   ]
  },
  {
   "cell_type": "code",
   "execution_count": 45,
   "metadata": {},
   "outputs": [
    {
     "data": {
      "text/plain": [
       "{'news_title': \"NASA Engineers Checking InSight's Weather Sensors\",\n",
       " 'news_desc': 'An electronics issue is suspected to be preventing the sensors from sharing their data about Mars weather with the spacecraft.',\n",
       " 'featured_img': 'https://www.jpl.nasa.gov/spaceimages/?search=&category=Mars/spaceimages/images/mediumsize/PIA19977_ip.jpg',\n",
       " 'mars_facts': '<table border=\"1\" class=\"dataframe\">\\n  <thead>\\n    <tr style=\"text-align: right;\">\\n      <th></th>\\n      <th>Value</th>\\n    </tr>\\n    <tr>\\n      <th>Attribute</th>\\n      <th></th>\\n    </tr>\\n  </thead>\\n  <tbody>\\n    <tr>\\n      <th>Equatorial Diameter:</th>\\n      <td>6,792 km</td>\\n    </tr>\\n    <tr>\\n      <th>Polar Diameter:</th>\\n      <td>6,752 km</td>\\n    </tr>\\n    <tr>\\n      <th>Mass:</th>\\n      <td>6.39 × 10^23 kg (0.11 Earths)</td>\\n    </tr>\\n    <tr>\\n      <th>Moons:</th>\\n      <td>2 (Phobos &amp; Deimos)</td>\\n    </tr>\\n    <tr>\\n      <th>Orbit Distance:</th>\\n      <td>227,943,824 km (1.38 AU)</td>\\n    </tr>\\n    <tr>\\n      <th>Orbit Period:</th>\\n      <td>687 days (1.9 years)</td>\\n    </tr>\\n    <tr>\\n      <th>Surface Temperature:</th>\\n      <td>-87 to -5 °C</td>\\n    </tr>\\n    <tr>\\n      <th>First Record:</th>\\n      <td>2nd millennium BC</td>\\n    </tr>\\n    <tr>\\n      <th>Recorded By:</th>\\n      <td>Egyptian astronomers</td>\\n    </tr>\\n  </tbody>\\n</table>',\n",
       " 'hemi_1': {'title': 'Cerberus Hemisphere Enhanced',\n",
       "  'img_url': 'https://astrogeology.usgs.gov/search/results?q=hemisphere+enhanced&k1=target&v1=Mars/search/map/Mars/Viking/cerberus_enhanced'},\n",
       " 'hemi_2': {'title': 'Schiaparelli Hemisphere Enhanced',\n",
       "  'img_url': 'https://astrogeology.usgs.gov/search/results?q=hemisphere+enhanced&k1=target&v1=Mars/search/map/Mars/Viking/schiaparelli_enhanced'},\n",
       " 'hemi_3': {'title': 'Syrtis Major Hemisphere Enhanced',\n",
       "  'img_url': 'https://astrogeology.usgs.gov/search/results?q=hemisphere+enhanced&k1=target&v1=Mars/search/map/Mars/Viking/syrtis_major_enhanced'},\n",
       " 'hemi_4': {'title': 'Valles Marineris Hemisphere Enhanced',\n",
       "  'img_url': 'https://astrogeology.usgs.gov/search/results?q=hemisphere+enhanced&k1=target&v1=Mars/search/map/Mars/Viking/valles_marineris_enhanced'}}"
      ]
     },
     "execution_count": 45,
     "metadata": {},
     "output_type": "execute_result"
    }
   ],
   "source": [
    "# Create a dictionary with all the values\n",
    "mars_dict = {\n",
    "    'news_title': nasa_news_title,\n",
    "    'news_desc':  nasa_news_description,\n",
    "    'featured_img':  featured_img_url,\n",
    "    'mars_facts':  mars_facts_html,\n",
    "    'hemi_1':  hemi_list[0],\n",
    "    'hemi_2':  hemi_list[1],\n",
    "    'hemi_3':  hemi_list[2],\n",
    "    'hemi_4':  hemi_list[3]\n",
    "}\n",
    "print(mars_dict)"
   ]
  },
  {
   "cell_type": "code",
   "execution_count": null,
   "metadata": {},
   "outputs": [],
   "source": []
  }
 ],
 "metadata": {
  "kernelspec": {
   "display_name": "Python 3",
   "language": "python",
   "name": "python3"
  },
  "language_info": {
   "codemirror_mode": {
    "name": "ipython",
    "version": 3
   },
   "file_extension": ".py",
   "mimetype": "text/x-python",
   "name": "python",
   "nbconvert_exporter": "python",
   "pygments_lexer": "ipython3",
   "version": "3.7.6"
  }
 },
 "nbformat": 4,
 "nbformat_minor": 4
}
